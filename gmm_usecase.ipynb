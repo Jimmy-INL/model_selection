{
 "cells": [
  {
   "cell_type": "markdown",
   "metadata": {},
   "source": [
    "# Required libraries"
   ]
  },
  {
   "cell_type": "code",
   "execution_count": 1,
   "metadata": {},
   "outputs": [
    {
     "name": "stdout",
     "output_type": "stream",
     "text": [
      "Fri May  8 05:55:49 Asia 2020\n"
     ]
    }
   ],
   "source": [
    "!date\n",
    "import warnings\n",
    "warnings.simplefilter('ignore')"
   ]
  },
  {
   "cell_type": "code",
   "execution_count": 2,
   "metadata": {},
   "outputs": [],
   "source": [
    "%matplotlib inline\n",
    "import matplotlib.pyplot as plt\n",
    "import numpy as np\n",
    "from model_selection.bayes_clustering import GMM_BC"
   ]
  },
  {
   "cell_type": "markdown",
   "metadata": {},
   "source": [
    "# Generate Toy Data"
   ]
  },
  {
   "cell_type": "code",
   "execution_count": 3,
   "metadata": {},
   "outputs": [],
   "source": [
    "D = 2\n",
    "K = 3\n",
    "np.random.seed(10)\n",
    "mus = np.random.normal(scale=3, size=(K, D))\n",
    "covariances = np.empty((K, D, D))\n",
    "for k in range(K):\n",
    "    covariances[k] = np.eye(D)"
   ]
  },
  {
   "cell_type": "code",
   "execution_count": 4,
   "metadata": {},
   "outputs": [
    {
     "data": {
      "image/png": "[encoded data removed]",
      "text/plain": [
       "<Figure size 432x288 with 1 Axes>"
      ]
     },
     "metadata": {
      "needs_background": "light"
     },
     "output_type": "display_data"
    }
   ],
   "source": [
    "N_samples = [50]*K\n",
    "plt.figure()\n",
    "data = []\n",
    "\n",
    "for mu, cov, n in zip(mus, covariances, N_samples):\n",
    "    nxy = np.random.multivariate_normal(mu, cov, size=n).astype(\"float32\")\n",
    "    data.append(nxy)\n",
    "    plt.scatter(nxy[:,0], nxy[:,1])\n",
    "\n",
    "data = np.concatenate(data)"
   ]
  },
  {
   "cell_type": "markdown",
   "metadata": {},
   "source": [
    "# Determine K using this Module"
   ]
  },
  {
   "cell_type": "markdown",
   "metadata": {},
   "source": [
    "## Model Definition\n",
    "\n",
    "For now, this module provides the GMM(Gaussian Mixture Model) only.\n",
    "\n",
    "The model setup is as follows:\n",
    "\n",
    "**Likelihood**\n",
    "\n",
    "\\begin{align*}\n",
    "p(x\\mid w,\\mu,\\Sigma) = \\sum_{k=1}^{K} w_k\\ {\\rm Normal}(x\\mid\\mu_k, \\Sigma_k), \\quad \\text{where} \\sum_{k=1}^{K}w_k = 1\n",
    "\\end{align*}\n",
    "\n",
    "**Initial Priors**\n",
    "\\begin{align*}\n",
    "\\mu_k &\\sim_{i.i.d} {\\rm Normal}(\\mathbb{0}, \\mathbb{I}) \\quad \\text{for}\\ k=1,\\cdots,K\\\\\n",
    "\\Sigma_k &\\sim_{i.i.d} {\\rm LKJCholeskyCov}(\\eta=2, sd) \\quad \\text{where}\\ sd \\sim {\\rm HalfCauchy}(\\beta = 2.5)\\quad \\text{for}\\ k=1,\\cdots,K\\\\\n",
    "w &\\sim {\\rm Dirichlet}(\\alpha = \\underbrace{(1,1,\\cdots,1)}_{K})\\\\\n",
    "\\end{align*}\n",
    "\n",
    "We use NUTS as MCMC sampling method."
   ]
  },
  {
   "cell_type": "code",
   "execution_count": 5,
   "metadata": {},
   "outputs": [
    {
     "name": "stdout",
     "output_type": "stream",
     "text": [
      "MCMC sampling: K=2\n"
     ]
    },
    {
     "name": "stderr",
     "output_type": "stream",
     "text": [
      "logp = -737.18, ||grad|| = 2.2466: 100%|██████████| 19/19 [00:00<00:00, 552.78it/s]  \n",
      "Multiprocess sampling (2 chains in 2 jobs)\n",
      "NUTS: [mu1, cov1, mu0, cov0, w]\n",
      "Sampling 2 chains, 19 divergences: 100%|██████████| 6000/6000 [00:32<00:00, 186.35draws/s]\n",
      "There were 18 divergences after tuning. Increase `target_accept` or reparameterize.\n",
      "The acceptance probability does not match the target. It is 0.4912840058854634, but should be close to 0.8. Try to increase the number of tuning steps.\n",
      "There was 1 divergence after tuning. Increase `target_accept` or reparameterize.\n",
      "The rhat statistic is larger than 1.2 for some parameters.\n",
      "The estimated number of effective samples is smaller than 200 for some parameters.\n"
     ]
    },
    {
     "name": "stdout",
     "output_type": "stream",
     "text": [
      "MCMC sampling: K=3\n"
     ]
    },
    {
     "name": "stderr",
     "output_type": "stream",
     "text": [
      "logp = -743.23, ||grad|| = 1.5034: 100%|██████████| 19/19 [00:00<00:00, 525.29it/s]  \n",
      "Multiprocess sampling (2 chains in 2 jobs)\n",
      "NUTS: [mu2, cov2, mu1, cov1, mu0, cov0, w]\n",
      "Sampling 2 chains, 0 divergences: 100%|██████████| 6000/6000 [00:44<00:00, 135.17draws/s]\n",
      "The rhat statistic is larger than 1.4 for some parameters. The sampler did not converge.\n",
      "The estimated number of effective samples is smaller than 200 for some parameters.\n"
     ]
    },
    {
     "name": "stdout",
     "output_type": "stream",
     "text": [
      "MCMC sampling: K=4\n"
     ]
    },
    {
     "name": "stderr",
     "output_type": "stream",
     "text": [
      "logp = -748.84, ||grad|| = 1.199: 100%|██████████| 16/16 [00:00<00:00, 384.75it/s]  \n",
      "Multiprocess sampling (2 chains in 2 jobs)\n",
      "NUTS: [mu3, cov3, mu2, cov2, mu1, cov1, mu0, cov0, w]\n",
      "Sampling 2 chains, 8 divergences: 100%|██████████| 6000/6000 [01:55<00:00, 51.99draws/s]\n",
      "There were 6 divergences after tuning. Increase `target_accept` or reparameterize.\n",
      "The acceptance probability does not match the target. It is 0.6297741338273545, but should be close to 0.8. Try to increase the number of tuning steps.\n",
      "There were 2 divergences after tuning. Increase `target_accept` or reparameterize.\n",
      "The rhat statistic is larger than 1.4 for some parameters. The sampler did not converge.\n",
      "The estimated number of effective samples is smaller than 200 for some parameters.\n"
     ]
    },
    {
     "name": "stdout",
     "output_type": "stream",
     "text": [
      "MCMC sampling: K=5\n"
     ]
    },
    {
     "name": "stderr",
     "output_type": "stream",
     "text": [
      "logp = -754.15, ||grad|| = 1.1086: 100%|██████████| 18/18 [00:00<00:00, 319.98it/s]  \n",
      "Multiprocess sampling (2 chains in 2 jobs)\n",
      "NUTS: [mu4, cov4, mu3, cov3, mu2, cov2, mu1, cov1, mu0, cov0, w]\n",
      "Sampling 2 chains, 13 divergences: 100%|██████████| 6000/6000 [04:34<00:00, 21.83draws/s]\n",
      "There were 3 divergences after tuning. Increase `target_accept` or reparameterize.\n",
      "There were 10 divergences after tuning. Increase `target_accept` or reparameterize.\n",
      "The acceptance probability does not match the target. It is 0.6478740397147897, but should be close to 0.8. Try to increase the number of tuning steps.\n",
      "The rhat statistic is larger than 1.4 for some parameters. The sampler did not converge.\n",
      "The estimated number of effective samples is smaller than 200 for some parameters.\n"
     ]
    }
   ],
   "source": [
    "# K candidates you want to calculate the Bayes IC\n",
    "K_cand = np.arange(2, 5+1)\n",
    "\n",
    "# Create instance and Run MCMC sampling over K_cand \n",
    "gmm = GMM_BC(K_cand, n_samples=2000)\n",
    "gmm.fit(data)"
   ]
  },
  {
   "cell_type": "code",
   "execution_count": 6,
   "metadata": {},
   "outputs": [
    {
     "data": {
      "text/html": [
       "<div>\n",
       "<style scoped>\n",
       "    .dataframe tbody tr th:only-of-type {\n",
       "        vertical-align: middle;\n",
       "    }\n",
       "\n",
       "    .dataframe tbody tr th {\n",
       "        vertical-align: top;\n",
       "    }\n",
       "\n",
       "    .dataframe thead th {\n",
       "        text-align: right;\n",
       "    }\n",
       "</style>\n",
       "<table border=\"1\" class=\"dataframe\">\n",
       "  <thead>\n",
       "    <tr style=\"text-align: right;\">\n",
       "      <th></th>\n",
       "      <th>rank</th>\n",
       "      <th>waic</th>\n",
       "      <th>p_waic</th>\n",
       "      <th>d_waic</th>\n",
       "      <th>weight</th>\n",
       "      <th>se</th>\n",
       "      <th>dse</th>\n",
       "      <th>warning</th>\n",
       "      <th>waic_scale</th>\n",
       "    </tr>\n",
       "  </thead>\n",
       "  <tbody>\n",
       "    <tr>\n",
       "      <th>K=3</th>\n",
       "      <td>0</td>\n",
       "      <td>1177.15</td>\n",
       "      <td>16.4854</td>\n",
       "      <td>0</td>\n",
       "      <td>0.66033</td>\n",
       "      <td>24.2057</td>\n",
       "      <td>0</td>\n",
       "      <td>True</td>\n",
       "      <td>deviance</td>\n",
       "    </tr>\n",
       "    <tr>\n",
       "      <th>K=4</th>\n",
       "      <td>1</td>\n",
       "      <td>1179.08</td>\n",
       "      <td>16.8952</td>\n",
       "      <td>1.93638</td>\n",
       "      <td>0.253262</td>\n",
       "      <td>24.1053</td>\n",
       "      <td>0.494911</td>\n",
       "      <td>True</td>\n",
       "      <td>deviance</td>\n",
       "    </tr>\n",
       "    <tr>\n",
       "      <th>K=5</th>\n",
       "      <td>2</td>\n",
       "      <td>1181.34</td>\n",
       "      <td>17.4566</td>\n",
       "      <td>4.19</td>\n",
       "      <td>0.0864077</td>\n",
       "      <td>20.4275</td>\n",
       "      <td>0.795256</td>\n",
       "      <td>True</td>\n",
       "      <td>deviance</td>\n",
       "    </tr>\n",
       "    <tr>\n",
       "      <th>K=2</th>\n",
       "      <td>3</td>\n",
       "      <td>1312.06</td>\n",
       "      <td>36.8883</td>\n",
       "      <td>134.916</td>\n",
       "      <td>1.35461e-21</td>\n",
       "      <td>24.3074</td>\n",
       "      <td>11.7165</td>\n",
       "      <td>True</td>\n",
       "      <td>deviance</td>\n",
       "    </tr>\n",
       "  </tbody>\n",
       "</table>\n",
       "</div>"
      ],
      "text/plain": [
       "    rank     waic   p_waic   d_waic       weight       se       dse warning  \\\n",
       "K=3    0  1177.15  16.4854        0      0.66033  24.2057         0    True   \n",
       "K=4    1  1179.08  16.8952  1.93638     0.253262  24.1053  0.494911    True   \n",
       "K=5    2  1181.34  17.4566     4.19    0.0864077  20.4275  0.795256    True   \n",
       "K=2    3  1312.06  36.8883  134.916  1.35461e-21  24.3074   11.7165    True   \n",
       "\n",
       "    waic_scale  \n",
       "K=3   deviance  \n",
       "K=4   deviance  \n",
       "K=5   deviance  \n",
       "K=2   deviance  "
      ]
     },
     "execution_count": 6,
     "metadata": {},
     "output_type": "execute_result"
    }
   ],
   "source": [
    "# calculating the bayesian IC\n",
    "# as a default, we use WAIC(smaller is better)\n",
    "gmm.compare(gmm.result)"
   ]
  }
 ],
 "metadata": {
  "kernelspec": {
   "display_name": "Python 3",
   "language": "python",
   "name": "python3"
  },
  "language_info": {
   "codemirror_mode": {
    "name": "ipython",
    "version": 3
   },
   "file_extension": ".py",
   "mimetype": "text/x-python",
   "name": "python",
   "nbconvert_exporter": "python",
   "pygments_lexer": "ipython3",
   "version": "3.8.1"
  }
 },
 "nbformat": 4,
 "nbformat_minor": 4
}
